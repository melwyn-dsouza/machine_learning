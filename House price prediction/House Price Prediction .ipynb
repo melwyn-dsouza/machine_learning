{
 "cells": [
  {
   "cell_type": "markdown",
   "id": "71c5b348",
   "metadata": {},
   "source": [
    "# House Price Prediction - Melwyn D Souza (MSc. AI)"
   ]
  },
  {
   "cell_type": "markdown",
   "id": "079232c2",
   "metadata": {},
   "source": [
    "Importing neccessary libraries"
   ]
  },
  {
   "cell_type": "code",
   "execution_count": 117,
   "id": "37c5bc00",
   "metadata": {},
   "outputs": [],
   "source": [
    "import pandas as pd\n",
    "import numpy as np\n",
    "import sklearn, copy\n",
    "import matplotlib.pyplot as plt\n",
    "from sklearn.preprocessing import StandardScaler, MinMaxScaler, LabelEncoder, OneHotEncoder, Normalizer\n",
    "from sklearn.compose import ColumnTransformer\n",
    "from sklearn.ensemble import IsolationForest, RandomForestRegressor\n",
    "\n",
    "%matplotlib inline"
   ]
  },
  {
   "cell_type": "markdown",
   "id": "0c419671",
   "metadata": {},
   "source": [
    "Reading data from train and test csv files "
   ]
  },
  {
   "cell_type": "code",
   "execution_count": 118,
   "id": "66496c56",
   "metadata": {},
   "outputs": [],
   "source": [
    "traindata = pd.read_csv(\"train.csv\")\n",
    "testdata = pd.read_csv(\"test.csv\")\n",
    "# print(\"************** TRAIN DATA ****************\")\n",
    "# print(traindata.head())\n",
    "# print(\"\\n\\n************** TEST DATA ****************\")\n",
    "# print(testdata.head())"
   ]
  },
  {
   "cell_type": "code",
   "execution_count": 119,
   "id": "86bda7e3",
   "metadata": {},
   "outputs": [],
   "source": [
    "# print(\"************** TRAIN DATA INFO ****************\")\n",
    "# print(traindata.info())\n",
    "\n",
    "# print(\"\\n\\n************** TEST DATA INFO ****************\")\n",
    "# print(testdata.info())\n",
    "\n",
    "#from info I can see three columns to be categorical, address is not usefull, ill drop it, rest should be coverted\n",
    "#using one-hot-encoder\n",
    "\n",
    "#display 5 point summary, including freq, mean median 25% 50% 75% max min etc\n",
    "# traindata.describe(include = 'all')"
   ]
  },
  {
   "cell_type": "markdown",
   "id": "c2c5561e",
   "metadata": {},
   "source": [
    "## Pre-process"
   ]
  },
  {
   "cell_type": "code",
   "execution_count": 120,
   "id": "b5ada4a6",
   "metadata": {},
   "outputs": [],
   "source": [
    "#checking the data for any missing values\n",
    "def pre_process(data):\n",
    "    \n",
    "    \"\"\"Dealing with missing values\"\"\"\n",
    "    \n",
    "    print(\"\\n----------Dealing with missing values-------------\\n\")\n",
    "    if (data.isnull().sum().sum() > 0):\n",
    "        print(\"This one has missing valuess\")\n",
    "        data = data.dropna()\n",
    "        \n",
    "        print(data.isnull().sum())\n",
    "    \n",
    "    \"\"\"Dropping unwanted columns\"\"\"\n",
    "    \n",
    "    #dropping address column\n",
    "    data.drop('ADDRESS', axis='columns', inplace=True)    \n",
    "    \n",
    "    \"\"\"Delaing with categorical values\"\"\"\n",
    "    print(\"\\n---------Delaing with categorical values----------\\n\")\n",
    "    print(data.head())\n",
    "\n",
    "    df1 = pd.get_dummies(data[\"POSTED_BY\"], prefix='POSTED_BY')\n",
    "    data = pd.concat([data,df1],axis=1)\n",
    "    data = data.drop(['POSTED_BY'],axis=1)\n",
    "        \n",
    "    df1 = pd.get_dummies(data[\"BHK_OR_RK\"], prefix='Type')\n",
    "    data = pd.concat([data,df1],axis=1)\n",
    "    data = data.drop(['BHK_OR_RK'],axis=1)\n",
    "    \n",
    "    X = data.drop(['TARGET(PRICE_IN_LACS)'],axis=1)\n",
    "    y = data['TARGET(PRICE_IN_LACS)'].astype(float) \n",
    "    \n",
    "#     print(X.columns)\n",
    "    print(\"\\nOne hot encoded 'Posted_by' and 'BHK_RK'\")\n",
    "    print(X.head())\n",
    "#     print(y.head())\n",
    "    \n",
    "    \"\"\"Normalizing Data\"\"\"\n",
    "    \n",
    "    print(\"\\n----------Normalizing Data------------\\n\")\n",
    "    \n",
    "    #I will noramlize/scale the data\n",
    "    #Only bhk_no, longitude, lattitude and square_feet are normalized\n",
    "    col_names = ['BHK_NO.','SQUARE_FT', 'LONGITUDE', 'LATITUDE']\n",
    "    scaled_features = copy.deepcopy(X[col_names])\n",
    "    std = StandardScaler()\n",
    "    X_scaled = std.fit_transform(scaled_features.values)\n",
    "    X[col_names] = X_scaled\n",
    "    print(X.head())\n",
    "    \n",
    "    #Confirming if Standard scaler is making mean = 0 and std = 1\n",
    "    print(\"\\nIf the data is scaled right, mean will be 0 and standard deviation will be 1\")\n",
    "    print(\"Mean -> \",(X_scaled.mean(axis=0)).round())\n",
    "    print(\"Standard Deviaition -> \",(X_scaled.std(axis=0)).round())\n",
    "\n",
    "    \"\"\"Dealing with Outliers\"\"\"\n",
    "    \n",
    "    print(\"\\n----------------Dealing with Outliers---------------\\n\")\n",
    "    #dealing with outliers\n",
    "    fig, ax = plt.subplots(2,2)\n",
    "    \n",
    "    ax[0,0].boxplot(X[\"SQUARE_FT\"])\n",
    "    ax[0,0].title.set_text(\"SQUARE_FT\")\n",
    "    \n",
    "    ax[0,1].boxplot(X[\"LONGITUDE\"])\n",
    "    ax[0,1].title.set_text(\"LONGITUDE\")\n",
    "    \n",
    "    ax[1,0].boxplot(X[\"LATITUDE\"])\n",
    "    ax[1,0].title.set_text(\"LATITUDE\")\n",
    "    \n",
    "    ax[1,1].boxplot(X[\"BHK_NO.\"])\n",
    "    ax[1,1].title.set_text(\"BHK_NO.\")\n",
    "    plt.show()\n",
    "    \n",
    "    print(\"Before dealing with outliers, X shape -> \",X.shape)    \n",
    "    \n",
    "    #Dealing with Outliers\n",
    "    clf = IsolationForest(contamination=0.1).fit(X) #create Isolation Forest object\n",
    "    result = clf.predict(X) #Finding outliers, returns array of 1 (non outliers) and -1 (outliers)\n",
    "    X = X[result==1] #filter all good instances\n",
    "    y = y[result==1]\n",
    "    \n",
    "    print(\"After dealing with outliers, X shape -> \",X.shape)\n",
    "    \n",
    "    #dealing with outliers\n",
    "    fig1, ax1 = plt.subplots(2,2)\n",
    "    \n",
    "    ax1[0,0].boxplot(X[\"SQUARE_FT\"])\n",
    "    ax1[0,0].title.set_text(\"SQUARE_FT\")\n",
    "    \n",
    "    ax1[0,1].boxplot(X[\"LONGITUDE\"])\n",
    "    ax1[0,1].title.set_text(\"LONGITUDE\")\n",
    "    \n",
    "    ax1[1,0].boxplot(X[\"LATITUDE\"])\n",
    "    ax1[1,0].title.set_text(\"LATITUDE\")\n",
    "    \n",
    "    ax1[1,1].boxplot(X[\"BHK_NO.\"])\n",
    "    ax1[1,1].title.set_text(\"BHK_NO.\")\n",
    "    plt.show()\n",
    "    \n",
    "    \"\"\"Feature Selection\"\"\"\n",
    "    print(\"\\n---------Feature Selection----------\\n\")\n",
    "\n",
    "    forest = RandomForestRegressor(n_estimators =250, random_state = 0)\n",
    "    forest.fit(X,y)\n",
    "    importances = forest.feature_importances_\n",
    "#     print(X.shape)\n",
    "#     print(importances)\n",
    "    for index,feature in zip(range(len(X.columns)), X.columns):\n",
    "        print(\"Feature->\"+str(feature)+\" Importance-> \"+str(importances[index]))\n",
    "    \n",
    "    #Note - always use (-array) if you need sorting in descending order\n",
    "    idx = (-importances).argsort()\n",
    "    \n",
    "    plt.barh(X.columns[idx], importances[idx])\n",
    "    plt.title(\"Feature Importances\")\n",
    "    plt.show()\n",
    "    \n",
    "    X = X.iloc[:,idx[0:8]]\n",
    "\n",
    "    print(\"\\nAfter selecting 9 most important features\")\n",
    "    plt.barh(X.columns, importances[idx[0:8]])\n",
    "    plt.title(\"Feature Importances\")\n",
    "    plt.show()\n",
    "    \n",
    "    print(X.columns)\n",
    "    print(X.shape)\n",
    "    \n",
    "    \n",
    "    "
   ]
  },
  {
   "cell_type": "code",
   "execution_count": 121,
   "id": "a0adc018",
   "metadata": {},
   "outputs": [
    {
     "name": "stdout",
     "output_type": "stream",
     "text": [
      "\n",
      "----------Dealing with missing values-------------\n",
      "\n",
      "\n",
      "---------Delaing with categorical values----------\n",
      "\n",
      "  POSTED_BY  UNDER_CONSTRUCTION  RERA  BHK_NO. BHK_OR_RK    SQUARE_FT  \\\n",
      "0     Owner                   0     0        2       BHK  1300.236407   \n",
      "1    Dealer                   0     0        2       BHK  1275.000000   \n",
      "2     Owner                   0     0        2       BHK   933.159722   \n",
      "3     Owner                   0     1        2       BHK   929.921143   \n",
      "4    Dealer                   1     0        2       BHK   999.009247   \n",
      "\n",
      "   READY_TO_MOVE  RESALE  LONGITUDE   LATITUDE  TARGET(PRICE_IN_LACS)  \n",
      "0              1       1  12.969910  77.597960                   55.0  \n",
      "1              1       1  12.274538  76.644605                   51.0  \n",
      "2              1       1  12.778033  77.632191                   43.0  \n",
      "3              1       1  28.642300  77.344500                   62.5  \n",
      "4              0       1  22.592200  88.484911                   60.5  \n",
      "\n",
      "One hot encoded 'Posted_by' and 'BHK_RK'\n",
      "   UNDER_CONSTRUCTION  RERA  BHK_NO.    SQUARE_FT  READY_TO_MOVE  RESALE  \\\n",
      "0                   0     0        2  1300.236407              1       1   \n",
      "1                   0     0        2  1275.000000              1       1   \n",
      "2                   0     0        2   933.159722              1       1   \n",
      "3                   0     1        2   929.921143              1       1   \n",
      "4                   1     0        2   999.009247              0       1   \n",
      "\n",
      "   LONGITUDE   LATITUDE  POSTED_BY_Builder  POSTED_BY_Dealer  POSTED_BY_Owner  \\\n",
      "0  12.969910  77.597960                  0                 0                1   \n",
      "1  12.274538  76.644605                  0                 1                0   \n",
      "2  12.778033  77.632191                  0                 0                1   \n",
      "3  28.642300  77.344500                  0                 0                1   \n",
      "4  22.592200  88.484911                  0                 1                0   \n",
      "\n",
      "   Type_BHK  Type_RK  \n",
      "0         1        0  \n",
      "1         1        0  \n",
      "2         1        0  \n",
      "3         1        0  \n",
      "4         1        0  \n",
      "\n",
      "----------Normalizing Data------------\n",
      "\n",
      "   UNDER_CONSTRUCTION  RERA  BHK_NO.  SQUARE_FT  READY_TO_MOVE  RESALE  \\\n",
      "0                   0     0 -0.44624  -0.009731              1       1   \n",
      "1                   0     0 -0.44624  -0.009744              1       1   \n",
      "2                   0     0 -0.44624  -0.009924              1       1   \n",
      "3                   0     1 -0.44624  -0.009926              1       1   \n",
      "4                   1     0 -0.44624  -0.009890              0       1   \n",
      "\n",
      "   LONGITUDE  LATITUDE  POSTED_BY_Builder  POSTED_BY_Dealer  POSTED_BY_Owner  \\\n",
      "0  -1.342478  0.072011                  0                 0                1   \n",
      "1  -1.454541 -0.018289                  0                 1                0   \n",
      "2  -1.373400  0.075254                  0                 0                1   \n",
      "3   1.183208  0.048004                  0                 0                1   \n",
      "4   0.208204  1.103210                  0                 1                0   \n",
      "\n",
      "   Type_BHK  Type_RK  \n",
      "0         1        0  \n",
      "1         1        0  \n",
      "2         1        0  \n",
      "3         1        0  \n",
      "4         1        0  \n",
      "\n",
      "If the data is scaled right, mean will be 0 and standard deviation will be 1\n",
      "Mean ->  [ 0. -0. -0. -0.]\n",
      "Standard Deviaition ->  [1. 1. 1. 1.]\n",
      "\n",
      "----------------Dealing with Outliers---------------\n",
      "\n"
     ]
    },
    {
     "data": {
      "image/png": "[encoded data removed]",
      "text/plain": [
       "<Figure size 432x288 with 4 Axes>"
      ]
     },
     "metadata": {
      "needs_background": "light"
     },
     "output_type": "display_data"
    },
    {
     "name": "stdout",
     "output_type": "stream",
     "text": [
      "Before dealing with outliers, X shape ->  (29451, 13)\n",
      "After dealing with outliers, X shape ->  (26507, 13)\n"
     ]
    },
    {
     "data": {
      "image/png": "[encoded data removed]",
      "text/plain": [
       "<Figure size 432x288 with 4 Axes>"
      ]
     },
     "metadata": {
      "needs_background": "light"
     },
     "output_type": "display_data"
    },
    {
     "name": "stdout",
     "output_type": "stream",
     "text": [
      "\n",
      "---------Feature Selection----------\n",
      "\n",
      "Feature->UNDER_CONSTRUCTION Importance-> 0.001461074967499532\n",
      "Feature->RERA Importance-> 0.013148177902986998\n",
      "Feature->BHK_NO. Importance-> 0.06593612371306995\n",
      "Feature->SQUARE_FT Importance-> 0.36414222253545875\n",
      "Feature->READY_TO_MOVE Importance-> 0.001373146684979535\n",
      "Feature->RESALE Importance-> 0.0007690561883110689\n",
      "Feature->LONGITUDE Importance-> 0.22198640369162015\n",
      "Feature->LATITUDE Importance-> 0.32013945456377413\n",
      "Feature->POSTED_BY_Builder Importance-> 9.120239014283168e-07\n",
      "Feature->POSTED_BY_Dealer Importance-> 0.0061423565081129\n",
      "Feature->POSTED_BY_Owner Importance-> 0.004895858045962552\n",
      "Feature->Type_BHK Importance-> 2.7848126722697887e-06\n",
      "Feature->Type_RK Importance-> 2.428361650789384e-06\n"
     ]
    },
    {
     "data": {
      "image/png": "[encoded data removed]",
      "text/plain": [
       "<Figure size 432x288 with 1 Axes>"
      ]
     },
     "metadata": {
      "needs_background": "light"
     },
     "output_type": "display_data"
    },
    {
     "name": "stdout",
     "output_type": "stream",
     "text": [
      "\n",
      "After selecting 9 most important features\n"
     ]
    },
    {
     "data": {
      "image/png": "[encoded data removed]",
      "text/plain": [
       "<Figure size 432x288 with 1 Axes>"
      ]
     },
     "metadata": {
      "needs_background": "light"
     },
     "output_type": "display_data"
    },
    {
     "name": "stdout",
     "output_type": "stream",
     "text": [
      "Index(['SQUARE_FT', 'LATITUDE', 'LONGITUDE', 'BHK_NO.', 'RERA',\n",
      "       'POSTED_BY_Dealer', 'POSTED_BY_Owner', 'UNDER_CONSTRUCTION'],\n",
      "      dtype='object')\n",
      "(26507, 8)\n"
     ]
    }
   ],
   "source": [
    "traindata = pre_process(traindata)\n"
   ]
  },
  {
   "cell_type": "code",
   "execution_count": null,
   "id": "a2f9026b",
   "metadata": {},
   "outputs": [],
   "source": []
  }
 ],
 "metadata": {
  "kernelspec": {
   "display_name": "Python 3",
   "language": "python",
   "name": "python3"
  },
  "language_info": {
   "codemirror_mode": {
    "name": "ipython",
    "version": 3
   },
   "file_extension": ".py",
   "mimetype": "text/x-python",
   "name": "python",
   "nbconvert_exporter": "python",
   "pygments_lexer": "ipython3",
   "version": "3.8.8"
  }
 },
 "nbformat": 4,
 "nbformat_minor": 5
}
