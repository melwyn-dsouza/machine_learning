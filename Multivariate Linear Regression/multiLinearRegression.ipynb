{
 "cells": [
  {
   "cell_type": "markdown",
   "id": "900495ab",
   "metadata": {},
   "source": [
    "# Multivariate Linear Regression from scratch - Melwyn D Souza"
   ]
  },
  {
   "cell_type": "code",
   "execution_count": 363,
   "id": "a2092928",
   "metadata": {},
   "outputs": [],
   "source": [
    "import pandas as pd\n",
    "import matplotlib.pyplot as plt\n",
    "import numpy as np\n",
    "from sklearn.preprocessing import StandardScaler\n",
    "import seaborn as sns\n",
    "from sklearn.metrics import r2_score"
   ]
  },
  {
   "cell_type": "code",
   "execution_count": 364,
   "id": "f2278653",
   "metadata": {},
   "outputs": [],
   "source": [
    "nFeatures, m = 0,0\n",
    "\n",
    "def main():\n",
    "    \n",
    "    global nFeatures, m\n",
    "    df = pd.read_csv(\"trainingData.csv\")\n",
    "    df = df.dropna()\n",
    "    data = df.values\n",
    "#     print(df.head())\n",
    "#     print(df.info())\n",
    "#     print(df.describe())\n",
    "    \n",
    "    y = data[:, -1]\n",
    "    X = data[:, :-1]\n",
    "    X = X.reshape(len(X),len(X[0]))\n",
    "    y = y.reshape(len(y),1)\n",
    "                  \n",
    "    nFeatures = X.shape[1]\n",
    "    m = X.shape[0]\n",
    "\n",
    "    # Standardize each of the features in the dataset. \n",
    "    for column in range(nFeatures):\n",
    "        feature = X[:, column]\n",
    "        feature = (feature - np.mean(feature))/np.std(feature)\n",
    "        X[:, column] = feature\n",
    "    \n",
    "#     X = StandardScaler().fit_transform(X)\n",
    "    #     print(X)\n",
    "\n",
    "    bias, coefficients = multipleLinearRegression(X, y)\n",
    "    \n",
    "    # Enable code if you have a test set  (as in part 2)\n",
    "    testdata_df= pd.read_csv(\"testData.csv\")\n",
    "    testdata = testdata_df.values\n",
    "\n",
    "    X_test = testdata[:,:-1]\n",
    "    y_test = testdata[:,-1]\n",
    "    \n",
    "    X_test = X_test.reshape(len(X_test),len(X_test[0]))\n",
    "    y_test = y_test.reshape(len(y_test),1)\n",
    "    \n",
    "#     y_pred = hypothesis(X, coefficients, bias)\n",
    "#     rSquared = r2_score(y, y_pred)\n",
    "\n",
    "    rSquared = calculateRSquared(bias,coefficients,X_test,y_test)\n",
    "    print (\"Final R2 value on test data\", rSquared)\n",
    "    "
   ]
  },
  {
   "cell_type": "code",
   "execution_count": 365,
   "id": "0912700e",
   "metadata": {},
   "outputs": [],
   "source": [
    "def multipleLinearRegression(X, y):\n",
    "    global nFeatures, m\n",
    "    b = 0.00\n",
    "    W = np.zeros((nFeatures,1))\n",
    "    alpha = 0.1 # learning rate\n",
    "    max_iter=100\n",
    "\n",
    "    # call gredient decent, and get intercept(=bias) and coefficents\n",
    "    b, W = gradient_descent(b, W, alpha, X, y, max_iter)\n",
    "    \n",
    "    return b, W\n",
    "    "
   ]
  },
  {
   "cell_type": "code",
   "execution_count": 366,
   "id": "4e030ba8",
   "metadata": {},
   "outputs": [],
   "source": [
    "def gradient_descent(b, W, alpha, X, y, max_iter):\n",
    "    global nFeatures, m\n",
    "    cost = []\n",
    "    for i in range(max_iter):\n",
    "        \n",
    "        y_pred = hypothesis(X, W, b)\n",
    "        cost.append((np.sum(np.square(y_pred-y)))/(2*m))\n",
    "        \n",
    "        for j in range(nFeatures):\n",
    "            W[j] = W[j] - alpha*((np.sum((y_pred-y)*X[:,[j]]))/m)\n",
    "        b = b - alpha*((np.sum(y_pred-y))/m)\n",
    "    \n",
    "    \n",
    "    # calculate R squared value for current coefficient and bias values\n",
    "    rSquared = calculateRSquared(b,W,X,y)\n",
    "#     rSquared = r2_score(y, y_pred)\n",
    "    print (\"Final R2 value on training data is: \", rSquared)\n",
    "    \n",
    "    #plot cost for max_iter iterations\n",
    "    plt.plot(range(max_iter),cost, \"g-\")\n",
    "    plt.title(\"Cost Function\")\n",
    "    plt.xlabel(\"Number of Iterations\")\n",
    "    plt.ylabel(\"Cost J(X,y)\")\n",
    "    plt.show()\n",
    "    return b,W"
   ]
  },
  {
   "cell_type": "code",
   "execution_count": 367,
   "id": "8dc9ec38",
   "metadata": {},
   "outputs": [],
   "source": [
    "def hypothesis(X, W, b):\n",
    "    y_pred = np.dot(X,W)+b\n",
    "    return y_pred"
   ]
  },
  {
   "cell_type": "code",
   "execution_count": 368,
   "id": "c9c36d9c",
   "metadata": {},
   "outputs": [],
   "source": [
    "def calculateRSquared(bias, coefficients,X, Y):\n",
    "    predictedY = hypothesis(X, coefficients, bias)\n",
    "    avgY = np.average(Y)\n",
    "    totalSumSq = np.sum((avgY - Y)**2)\n",
    "    sumSqRes = np.sum((predictedY - Y)**2)\n",
    "    r2 = 1.0-(sumSqRes/totalSumSq)\n",
    "    return r2"
   ]
  },
  {
   "cell_type": "code",
   "execution_count": 369,
   "id": "4630930d",
   "metadata": {},
   "outputs": [
    {
     "name": "stdout",
     "output_type": "stream",
     "text": [
      "Final R2 value on training data is:  0.9964784001595464\n"
     ]
    },
    {
     "data": {
      "image/png": "[encoded data removed]",
      "text/plain": [
       "<Figure size 432x288 with 1 Axes>"
      ]
     },
     "metadata": {
      "needs_background": "light"
     },
     "output_type": "display_data"
    },
    {
     "name": "stdout",
     "output_type": "stream",
     "text": [
      "Final R2 value on test data 0.9963906540373878\n"
     ]
    }
   ],
   "source": [
    "main()"
   ]
  }
 ],
 "metadata": {
  "kernelspec": {
   "display_name": "Python 3",
   "language": "python",
   "name": "python3"
  },
  "language_info": {
   "codemirror_mode": {
    "name": "ipython",
    "version": 3
   },
   "file_extension": ".py",
   "mimetype": "text/x-python",
   "name": "python",
   "nbconvert_exporter": "python",
   "pygments_lexer": "ipython3",
   "version": "3.8.8"
  }
 },
 "nbformat": 4,
 "nbformat_minor": 5
}
